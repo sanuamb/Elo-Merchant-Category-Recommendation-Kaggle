{
 "cells": [
  {
   "cell_type": "code",
   "execution_count": 28,
   "metadata": {},
   "outputs": [],
   "source": [
    "import pandas as pd\n",
    "import numpy as np\n",
    "from sklearn.model_selection import GridSearchCV\n",
    "import xgboost as xgb"
   ]
  },
  {
   "cell_type": "code",
   "execution_count": 29,
   "metadata": {},
   "outputs": [],
   "source": [
    "train_set=pd.read_csv('new_train.csv')\n",
    "test_set=pd.read_csv('new_test.csv')"
   ]
  },
  {
   "cell_type": "code",
   "execution_count": 30,
   "metadata": {},
   "outputs": [],
   "source": [
    "cols=['first_active_month','card_id','feature_1','feature_2','feature_3','num_of_transactions','hist_sum','hist_mean','hist_std'\n",
    "     ,'hist_min','hist_max','num_mer_transactions','mer_sum','mer_mean','mer_min','mer_max']\n",
    "target_col='target'"
   ]
  },
  {
   "cell_type": "code",
   "execution_count": 31,
   "metadata": {},
   "outputs": [],
   "source": [
    "xtrain=train_set[cols]\n",
    "ytrain=train_set[target_col]\n",
    "xtest=test_set[cols]"
   ]
  },
  {
   "cell_type": "code",
   "execution_count": 32,
   "metadata": {
    "scrolled": true
   },
   "outputs": [
    {
     "name": "stderr",
     "output_type": "stream",
     "text": [
      "Exception ignored in: <bound method DMatrix.__del__ of <xgboost.core.DMatrix object at 0x11b4ca518>>\n",
      "Traceback (most recent call last):\n",
      "  File \"/anaconda3/lib/python3.6/site-packages/xgboost/core.py\", line 368, in __del__\n",
      "    if self.handle is not None:\n",
      "AttributeError: 'DMatrix' object has no attribute 'handle'\n",
      "/anaconda3/lib/python3.6/site-packages/ipykernel_launcher.py:7: SettingWithCopyWarning: \n",
      "A value is trying to be set on a copy of a slice from a DataFrame.\n",
      "Try using .loc[row_indexer,col_indexer] = value instead\n",
      "\n",
      "See the caveats in the documentation: http://pandas.pydata.org/pandas-docs/stable/indexing.html#indexing-view-versus-copy\n",
      "  import sys\n",
      "/anaconda3/lib/python3.6/site-packages/ipykernel_launcher.py:8: SettingWithCopyWarning: \n",
      "A value is trying to be set on a copy of a slice from a DataFrame.\n",
      "Try using .loc[row_indexer,col_indexer] = value instead\n",
      "\n",
      "See the caveats in the documentation: http://pandas.pydata.org/pandas-docs/stable/indexing.html#indexing-view-versus-copy\n",
      "  \n"
     ]
    },
    {
     "data": {
      "text/html": [
       "<div>\n",
       "<style scoped>\n",
       "    .dataframe tbody tr th:only-of-type {\n",
       "        vertical-align: middle;\n",
       "    }\n",
       "\n",
       "    .dataframe tbody tr th {\n",
       "        vertical-align: top;\n",
       "    }\n",
       "\n",
       "    .dataframe thead th {\n",
       "        text-align: right;\n",
       "    }\n",
       "</style>\n",
       "<table border=\"1\" class=\"dataframe\">\n",
       "  <thead>\n",
       "    <tr style=\"text-align: right;\">\n",
       "      <th></th>\n",
       "      <th>feature_1</th>\n",
       "      <th>feature_2</th>\n",
       "      <th>feature_3</th>\n",
       "      <th>num_of_transactions</th>\n",
       "      <th>hist_sum</th>\n",
       "      <th>hist_mean</th>\n",
       "      <th>hist_std</th>\n",
       "      <th>hist_min</th>\n",
       "      <th>hist_max</th>\n",
       "      <th>num_mer_transactions</th>\n",
       "      <th>mer_sum</th>\n",
       "      <th>mer_mean</th>\n",
       "      <th>mer_min</th>\n",
       "      <th>mer_max</th>\n",
       "      <th>month</th>\n",
       "      <th>year</th>\n",
       "    </tr>\n",
       "  </thead>\n",
       "  <tbody>\n",
       "    <tr>\n",
       "      <th>0</th>\n",
       "      <td>5</td>\n",
       "      <td>2</td>\n",
       "      <td>1</td>\n",
       "      <td>260</td>\n",
       "      <td>-165.968739</td>\n",
       "      <td>-0.638341</td>\n",
       "      <td>0.212139</td>\n",
       "      <td>-0.739395</td>\n",
       "      <td>2.258395</td>\n",
       "      <td>23.0</td>\n",
       "      <td>-13.244202</td>\n",
       "      <td>-0.575835</td>\n",
       "      <td>-0.724368</td>\n",
       "      <td>-0.296112</td>\n",
       "      <td>6</td>\n",
       "      <td>2017</td>\n",
       "    </tr>\n",
       "    <tr>\n",
       "      <th>1</th>\n",
       "      <td>4</td>\n",
       "      <td>1</td>\n",
       "      <td>0</td>\n",
       "      <td>350</td>\n",
       "      <td>-210.006336</td>\n",
       "      <td>-0.600018</td>\n",
       "      <td>0.384967</td>\n",
       "      <td>-0.742400</td>\n",
       "      <td>4.630299</td>\n",
       "      <td>6.0</td>\n",
       "      <td>-4.355735</td>\n",
       "      <td>-0.725956</td>\n",
       "      <td>-0.739410</td>\n",
       "      <td>-0.701858</td>\n",
       "      <td>1</td>\n",
       "      <td>2017</td>\n",
       "    </tr>\n",
       "    <tr>\n",
       "      <th>2</th>\n",
       "      <td>2</td>\n",
       "      <td>2</td>\n",
       "      <td>0</td>\n",
       "      <td>43</td>\n",
       "      <td>-29.167391</td>\n",
       "      <td>-0.678311</td>\n",
       "      <td>0.087380</td>\n",
       "      <td>-0.730138</td>\n",
       "      <td>-0.145847</td>\n",
       "      <td>1.0</td>\n",
       "      <td>-0.700326</td>\n",
       "      <td>-0.700326</td>\n",
       "      <td>-0.700326</td>\n",
       "      <td>-0.700326</td>\n",
       "      <td>8</td>\n",
       "      <td>2016</td>\n",
       "    </tr>\n",
       "  </tbody>\n",
       "</table>\n",
       "</div>"
      ],
      "text/plain": [
       "   feature_1  feature_2  feature_3  num_of_transactions    hist_sum  \\\n",
       "0          5          2          1                  260 -165.968739   \n",
       "1          4          1          0                  350 -210.006336   \n",
       "2          2          2          0                   43  -29.167391   \n",
       "\n",
       "   hist_mean  hist_std  hist_min  hist_max  num_mer_transactions    mer_sum  \\\n",
       "0  -0.638341  0.212139 -0.739395  2.258395                  23.0 -13.244202   \n",
       "1  -0.600018  0.384967 -0.742400  4.630299                   6.0  -4.355735   \n",
       "2  -0.678311  0.087380 -0.730138 -0.145847                   1.0  -0.700326   \n",
       "\n",
       "   mer_mean   mer_min   mer_max  month  year  \n",
       "0 -0.575835 -0.724368 -0.296112      6  2017  \n",
       "1 -0.725956 -0.739410 -0.701858      1  2017  \n",
       "2 -0.700326 -0.700326 -0.700326      8  2016  "
      ]
     },
     "execution_count": 32,
     "metadata": {},
     "output_type": "execute_result"
    }
   ],
   "source": [
    "#convert first active month to date, month and year respectively\n",
    "mnth=pd.DatetimeIndex(xtrain['first_active_month']).month\n",
    "#day=xtrain['first_active_month'].dt.day\n",
    "year=pd.DatetimeIndex(xtrain['first_active_month']).year\n",
    "\n",
    "#xtrain['day']=day\n",
    "xtrain['month']=mnth\n",
    "xtrain['year']=year\n",
    "\n",
    "xtrain=xtrain.drop(['first_active_month','card_id'],axis=1)\n",
    "\n",
    "xtrain.head(3)"
   ]
  },
  {
   "cell_type": "code",
   "execution_count": 33,
   "metadata": {},
   "outputs": [
    {
     "name": "stderr",
     "output_type": "stream",
     "text": [
      "/anaconda3/lib/python3.6/site-packages/ipykernel_launcher.py:5: SettingWithCopyWarning: \n",
      "A value is trying to be set on a copy of a slice from a DataFrame.\n",
      "Try using .loc[row_indexer,col_indexer] = value instead\n",
      "\n",
      "See the caveats in the documentation: http://pandas.pydata.org/pandas-docs/stable/indexing.html#indexing-view-versus-copy\n",
      "  \"\"\"\n"
     ]
    },
    {
     "data": {
      "text/html": [
       "<div>\n",
       "<style scoped>\n",
       "    .dataframe tbody tr th:only-of-type {\n",
       "        vertical-align: middle;\n",
       "    }\n",
       "\n",
       "    .dataframe tbody tr th {\n",
       "        vertical-align: top;\n",
       "    }\n",
       "\n",
       "    .dataframe thead th {\n",
       "        text-align: right;\n",
       "    }\n",
       "</style>\n",
       "<table border=\"1\" class=\"dataframe\">\n",
       "  <thead>\n",
       "    <tr style=\"text-align: right;\">\n",
       "      <th></th>\n",
       "      <th>feature_1</th>\n",
       "      <th>feature_2</th>\n",
       "      <th>feature_3</th>\n",
       "      <th>num_of_transactions</th>\n",
       "      <th>hist_sum</th>\n",
       "      <th>hist_mean</th>\n",
       "      <th>hist_std</th>\n",
       "      <th>hist_min</th>\n",
       "      <th>hist_max</th>\n",
       "      <th>num_mer_transactions</th>\n",
       "      <th>mer_sum</th>\n",
       "      <th>mer_mean</th>\n",
       "      <th>mer_min</th>\n",
       "      <th>mer_max</th>\n",
       "      <th>month</th>\n",
       "      <th>year</th>\n",
       "    </tr>\n",
       "  </thead>\n",
       "  <tbody>\n",
       "    <tr>\n",
       "      <th>0</th>\n",
       "      <td>3</td>\n",
       "      <td>3</td>\n",
       "      <td>1</td>\n",
       "      <td>68</td>\n",
       "      <td>-40.733733</td>\n",
       "      <td>-0.599025</td>\n",
       "      <td>0.192268</td>\n",
       "      <td>-0.743902</td>\n",
       "      <td>0.235676</td>\n",
       "      <td>3.0</td>\n",
       "      <td>-1.777156</td>\n",
       "      <td>-0.592385</td>\n",
       "      <td>-0.722114</td>\n",
       "      <td>-0.383266</td>\n",
       "      <td>4.0</td>\n",
       "      <td>2017.0</td>\n",
       "    </tr>\n",
       "    <tr>\n",
       "      <th>1</th>\n",
       "      <td>2</td>\n",
       "      <td>3</td>\n",
       "      <td>0</td>\n",
       "      <td>78</td>\n",
       "      <td>-49.136513</td>\n",
       "      <td>-0.629955</td>\n",
       "      <td>0.154999</td>\n",
       "      <td>-0.731881</td>\n",
       "      <td>0.318818</td>\n",
       "      <td>9.0</td>\n",
       "      <td>-5.944698</td>\n",
       "      <td>-0.660522</td>\n",
       "      <td>-0.740897</td>\n",
       "      <td>-0.506484</td>\n",
       "      <td>1.0</td>\n",
       "      <td>2017.0</td>\n",
       "    </tr>\n",
       "    <tr>\n",
       "      <th>2</th>\n",
       "      <td>5</td>\n",
       "      <td>1</td>\n",
       "      <td>1</td>\n",
       "      <td>13</td>\n",
       "      <td>4.528840</td>\n",
       "      <td>0.348372</td>\n",
       "      <td>0.906547</td>\n",
       "      <td>-0.536537</td>\n",
       "      <td>2.525866</td>\n",
       "      <td>2.0</td>\n",
       "      <td>0.180138</td>\n",
       "      <td>0.090069</td>\n",
       "      <td>-0.724368</td>\n",
       "      <td>0.904506</td>\n",
       "      <td>8.0</td>\n",
       "      <td>2017.0</td>\n",
       "    </tr>\n",
       "  </tbody>\n",
       "</table>\n",
       "</div>"
      ],
      "text/plain": [
       "   feature_1  feature_2  feature_3  num_of_transactions   hist_sum  hist_mean  \\\n",
       "0          3          3          1                   68 -40.733733  -0.599025   \n",
       "1          2          3          0                   78 -49.136513  -0.629955   \n",
       "2          5          1          1                   13   4.528840   0.348372   \n",
       "\n",
       "   hist_std  hist_min  hist_max  num_mer_transactions   mer_sum  mer_mean  \\\n",
       "0  0.192268 -0.743902  0.235676                   3.0 -1.777156 -0.592385   \n",
       "1  0.154999 -0.731881  0.318818                   9.0 -5.944698 -0.660522   \n",
       "2  0.906547 -0.536537  2.525866                   2.0  0.180138  0.090069   \n",
       "\n",
       "    mer_min   mer_max  month    year  \n",
       "0 -0.722114 -0.383266    4.0  2017.0  \n",
       "1 -0.740897 -0.506484    1.0  2017.0  \n",
       "2 -0.724368  0.904506    8.0  2017.0  "
      ]
     },
     "execution_count": 33,
     "metadata": {},
     "output_type": "execute_result"
    }
   ],
   "source": [
    "#for test dataset\n",
    "mnth=pd.DatetimeIndex(xtest['first_active_month']).month\n",
    "year=pd.DatetimeIndex(xtest['first_active_month']).year\n",
    "\n",
    "xtest['month']=mnth\n",
    "xtest['year']=year\n",
    "\n",
    "#drop the first_active_month column\n",
    "xtest=xtest.drop(['first_active_month','card_id'],axis=1)\n",
    "xtest.head(3)"
   ]
  },
  {
   "cell_type": "code",
   "execution_count": 34,
   "metadata": {},
   "outputs": [],
   "source": [
    "#creating a xgb Dmatrix\n",
    "elo_dmatrix=xgb.DMatrix(xtrain,ytrain)"
   ]
  },
  {
   "cell_type": "code",
   "execution_count": 35,
   "metadata": {},
   "outputs": [],
   "source": [
    "#gbm parameter grid\n",
    "gbm_param_grid={'colsample_bytree':[0.3,0.7],'n_estimators':[50],'max_depth':[2,5]}"
   ]
  },
  {
   "cell_type": "code",
   "execution_count": 36,
   "metadata": {},
   "outputs": [],
   "source": [
    "#instantiate gbm\n",
    "gbm=xgb.XGBRegressor()"
   ]
  },
  {
   "cell_type": "code",
   "execution_count": 37,
   "metadata": {},
   "outputs": [],
   "source": [
    "grid_mse=GridSearchCV(param_grid=gbm_param_grid,estimator=gbm,scoring='neg_mean_squared_error',cv=4,verbose=1)"
   ]
  },
  {
   "cell_type": "code",
   "execution_count": 38,
   "metadata": {},
   "outputs": [
    {
     "name": "stdout",
     "output_type": "stream",
     "text": [
      "Fitting 4 folds for each of 4 candidates, totalling 16 fits\n"
     ]
    },
    {
     "name": "stderr",
     "output_type": "stream",
     "text": [
      "[Parallel(n_jobs=1)]: Using backend SequentialBackend with 1 concurrent workers.\n",
      "[Parallel(n_jobs=1)]: Done  16 out of  16 | elapsed:  1.1min finished\n"
     ]
    },
    {
     "data": {
      "text/plain": [
       "GridSearchCV(cv=4, error_score='raise-deprecating',\n",
       "       estimator=XGBRegressor(base_score=0.5, booster='gbtree', colsample_bylevel=1,\n",
       "       colsample_bytree=1, gamma=0, learning_rate=0.1, max_delta_step=0,\n",
       "       max_depth=3, min_child_weight=1, missing=None, n_estimators=100,\n",
       "       n_jobs=1, nthread=None, objective='reg:linear', random_state=0,\n",
       "       reg_alpha=0, reg_lambda=1, scale_pos_weight=1, seed=None,\n",
       "       silent=True, subsample=1),\n",
       "       fit_params=None, iid='warn', n_jobs=None,\n",
       "       param_grid={'colsample_bytree': [0.3, 0.7], 'n_estimators': [50], 'max_depth': [2, 5]},\n",
       "       pre_dispatch='2*n_jobs', refit=True, return_train_score='warn',\n",
       "       scoring='neg_mean_squared_error', verbose=1)"
      ]
     },
     "execution_count": 38,
     "metadata": {},
     "output_type": "execute_result"
    }
   ],
   "source": [
    "grid_mse.fit(xtrain,ytrain)"
   ]
  },
  {
   "cell_type": "code",
   "execution_count": 39,
   "metadata": {},
   "outputs": [
    {
     "name": "stdout",
     "output_type": "stream",
     "text": [
      "Best parameters found:  {'colsample_bytree': 0.7, 'max_depth': 5, 'n_estimators': 50}\n",
      "Lowest RMSE found:  3.8079220375041016\n"
     ]
    }
   ],
   "source": [
    "#find the best model \n",
    "print(\"Best parameters found: \", grid_mse.best_params_)\n",
    "print(\"Lowest RMSE found: \", np.sqrt(np.abs(grid_mse.best_score_)))"
   ]
  },
  {
   "cell_type": "code",
   "execution_count": 40,
   "metadata": {},
   "outputs": [],
   "source": [
    "#predict for the test set\n",
    "submission_df=pd.DataFrame()"
   ]
  },
  {
   "cell_type": "code",
   "execution_count": 42,
   "metadata": {},
   "outputs": [],
   "source": [
    "submission_df['card_id']=test_set['card_id']\n",
    "preds=grid_mse.predict(xtest)"
   ]
  },
  {
   "cell_type": "code",
   "execution_count": 44,
   "metadata": {},
   "outputs": [],
   "source": [
    "submission_df['target']=preds"
   ]
  },
  {
   "cell_type": "code",
   "execution_count": null,
   "metadata": {},
   "outputs": [],
   "source": []
  },
  {
   "cell_type": "code",
   "execution_count": 48,
   "metadata": {},
   "outputs": [],
   "source": [
    "submission_df.to_csv('submission.csv',index=False)"
   ]
  },
  {
   "cell_type": "code",
   "execution_count": null,
   "metadata": {},
   "outputs": [],
   "source": []
  }
 ],
 "metadata": {
  "kernelspec": {
   "display_name": "Python 3",
   "language": "python",
   "name": "python3"
  },
  "language_info": {
   "codemirror_mode": {
    "name": "ipython",
    "version": 3
   },
   "file_extension": ".py",
   "mimetype": "text/x-python",
   "name": "python",
   "nbconvert_exporter": "python",
   "pygments_lexer": "ipython3",
   "version": "3.6.6"
  }
 },
 "nbformat": 4,
 "nbformat_minor": 2
}
